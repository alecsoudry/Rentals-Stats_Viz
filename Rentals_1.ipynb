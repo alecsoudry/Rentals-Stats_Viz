{
 "cells": [
  {
   "cell_type": "code",
   "execution_count": 27,
   "metadata": {},
   "outputs": [],
   "source": [
    "# import pandas, and the driver to connect to the MS SQL Server\n",
    "import pandas\n",
    "import pyodbc"
   ]
  },
  {
   "cell_type": "code",
   "execution_count": 28,
   "metadata": {},
   "outputs": [],
   "source": [
    "# Import OS module for navigating operating system files\n",
    "# Load in local file into pandas with an absolute path\n",
    "import os\n",
    "from pathlib import Path\n",
    "\n",
    "download_path = Path.home() / \"Downloads\"\n",
    "FILE = os.path.abspath(download_path / \"rentals.csv\")\n",
    "loaded_file = pandas.read_csv(FILE)"
   ]
  },
  {
   "cell_type": "code",
   "execution_count": 29,
   "metadata": {},
   "outputs": [],
   "source": [
    "# open a connection and a cursor\n",
    "conn = pyodbc.connect(\"Driver={ODBC Driver 17 for SQL Server};\"\n",
    "                       \"Server=lcb-dmfa-sql.uccob.uc.edu;\"\n",
    "                       \"Database=lcb-dmfa-048;\"\n",
    "                       \"UID=lcb-dmfa-048;\"\n",
    "                       \"PWD=HV$289bi\")\n",
    "cursor = conn.cursor()"
   ]
  },
  {
   "cell_type": "code",
   "execution_count": 30,
   "metadata": {},
   "outputs": [],
   "source": [
    "# insert data from the file into the SQL Landlord table\n",
    "for index, row in loaded_file.iterrows():\n",
    "    try:\n",
    "        cursor.execute('INSERT INTO Landlord (id,host_id,host_name) VALUES (?, ?, ?)', \n",
    "                       row.id, row.host_id, row.host_name)\n",
    "    except pyodbc.ProgrammingError:\n",
    "        continue\n",
    "    finally:\n",
    "        conn.commit()"
   ]
  },
  {
   "cell_type": "code",
   "execution_count": 31,
   "metadata": {},
   "outputs": [],
   "source": [
    "# insert data from the file into the SQL House table\n",
    "for index, row in loaded_file.iterrows():\n",
    "    try:\n",
    "        cursor.execute('INSERT INTO House (id,name,neighborhood,room_type,price,minimum_nights,availability_365,number_of_reviews,average_reviews) VALUES (?, ?, ?, ?, ?, ?, ?, ?, ?)',\n",
    "                       row.id, row.name, row.neighborhood, row.room_type, row.price, row.minimum_nights, row.availability_365, row.number_of_reviews, row.average_reviews)\n",
    "    except pyodbc.ProgrammingError: \n",
    "        continue\n",
    "    finally:\n",
    "        conn.commit()"
   ]
  },
  {
   "cell_type": "code",
   "execution_count": null,
   "metadata": {},
   "outputs": [],
   "source": [
    "# done with all transactions, close the cursor and connection\n",
    "cursor.close()\n",
    "conn.close()"
   ]
  }
 ],
 "metadata": {
  "kernelspec": {
   "display_name": "Python 3",
   "language": "python",
   "name": "python3"
  },
  "language_info": {
   "codemirror_mode": {
    "name": "ipython",
    "version": 3
   },
   "file_extension": ".py",
   "mimetype": "text/x-python",
   "name": "python",
   "nbconvert_exporter": "python",
   "pygments_lexer": "ipython3",
   "version": "3.8.5"
  }
 },
 "nbformat": 4,
 "nbformat_minor": 4
}
