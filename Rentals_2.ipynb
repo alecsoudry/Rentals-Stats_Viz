{
 "cells": [
  {
   "cell_type": "code",
   "execution_count": 1,
   "metadata": {},
   "outputs": [],
   "source": [
    "# Importing all necessary packages\n",
    "import pandas as pd\n",
    "import numpy as np\n",
    "import seaborn as sns\n",
    "import matplotlib.pyplot as plt"
   ]
  },
  {
   "cell_type": "code",
   "execution_count": 2,
   "metadata": {},
   "outputs": [],
   "source": [
    "# To allow multiple outputs\n",
    "from IPython.core.interactiveshell import InteractiveShell\n",
    "InteractiveShell.ast_node_interactivity = \"all\""
   ]
  },
  {
   "cell_type": "code",
   "execution_count": 3,
   "metadata": {},
   "outputs": [],
   "source": [
    "# Creating an absolute path\n",
    "import os\n",
    "from pathlib import Path\n",
    "\n",
    "download_path = Path.home() / \"Downloads\"\n",
    "FILE = os.path.abspath(download_path / \"rentals.csv\")\n",
    "rentals = pd.read_csv(FILE)"
   ]
  },
  {
   "cell_type": "code",
   "execution_count": 4,
   "metadata": {},
   "outputs": [
    {
     "data": {
      "text/html": [
       "<div>\n",
       "<style scoped>\n",
       "    .dataframe tbody tr th:only-of-type {\n",
       "        vertical-align: middle;\n",
       "    }\n",
       "\n",
       "    .dataframe tbody tr th {\n",
       "        vertical-align: top;\n",
       "    }\n",
       "\n",
       "    .dataframe thead th {\n",
       "        text-align: right;\n",
       "    }\n",
       "</style>\n",
       "<table border=\"1\" class=\"dataframe\">\n",
       "  <thead>\n",
       "    <tr style=\"text-align: right;\">\n",
       "      <th></th>\n",
       "      <th>id</th>\n",
       "      <th>name</th>\n",
       "      <th>host_id</th>\n",
       "      <th>host_name</th>\n",
       "      <th>neighborhood</th>\n",
       "      <th>room_type</th>\n",
       "      <th>price</th>\n",
       "      <th>minimum_nights</th>\n",
       "      <th>availability_365</th>\n",
       "      <th>number_of_reviews</th>\n",
       "      <th>average_reviews</th>\n",
       "    </tr>\n",
       "  </thead>\n",
       "  <tbody>\n",
       "    <tr>\n",
       "      <th>0</th>\n",
       "      <td>3686</td>\n",
       "      <td>Vita's Hideaway</td>\n",
       "      <td>4645</td>\n",
       "      <td>Vita</td>\n",
       "      <td>Historic Anacostia</td>\n",
       "      <td>Private room</td>\n",
       "      <td>$55.00</td>\n",
       "      <td>2</td>\n",
       "      <td>365</td>\n",
       "      <td>75</td>\n",
       "      <td>3.38</td>\n",
       "    </tr>\n",
       "    <tr>\n",
       "      <th>1</th>\n",
       "      <td>3943</td>\n",
       "      <td>Historic Rowhouse Near Monuments</td>\n",
       "      <td>5059</td>\n",
       "      <td>Vasa</td>\n",
       "      <td>Edgewood, Bloomingdale, Truxton Circle, Eckington</td>\n",
       "      <td>Private room</td>\n",
       "      <td>$70.00</td>\n",
       "      <td>2</td>\n",
       "      <td>365</td>\n",
       "      <td>429</td>\n",
       "      <td>2.53</td>\n",
       "    </tr>\n",
       "    <tr>\n",
       "      <th>2</th>\n",
       "      <td>4197</td>\n",
       "      <td>Bedroom in DC 2 blocks to Metro</td>\n",
       "      <td>5061</td>\n",
       "      <td>Sandra</td>\n",
       "      <td>Capitol Hill, Lincoln Park</td>\n",
       "      <td>Private room</td>\n",
       "      <td>$80.00</td>\n",
       "      <td>28</td>\n",
       "      <td>263</td>\n",
       "      <td>45</td>\n",
       "      <td>4.15</td>\n",
       "    </tr>\n",
       "    <tr>\n",
       "      <th>3</th>\n",
       "      <td>4529</td>\n",
       "      <td>Bertina's  House Part One</td>\n",
       "      <td>5803</td>\n",
       "      <td>Bertina'S House</td>\n",
       "      <td>Eastland Gardens, Kenilworth</td>\n",
       "      <td>Private room</td>\n",
       "      <td>$54.00</td>\n",
       "      <td>30</td>\n",
       "      <td>84</td>\n",
       "      <td>102</td>\n",
       "      <td>3.18</td>\n",
       "    </tr>\n",
       "    <tr>\n",
       "      <th>4</th>\n",
       "      <td>4967</td>\n",
       "      <td>DC, Near Metro</td>\n",
       "      <td>7086</td>\n",
       "      <td>Seveer</td>\n",
       "      <td>Edgewood, Bloomingdale, Truxton Circle, Eckington</td>\n",
       "      <td>Private room</td>\n",
       "      <td>$99.00</td>\n",
       "      <td>2</td>\n",
       "      <td>233</td>\n",
       "      <td>31</td>\n",
       "      <td>2.76</td>\n",
       "    </tr>\n",
       "  </tbody>\n",
       "</table>\n",
       "</div>"
      ],
      "text/plain": [
       "     id                              name  host_id        host_name  \\\n",
       "0  3686                   Vita's Hideaway     4645             Vita   \n",
       "1  3943  Historic Rowhouse Near Monuments     5059             Vasa   \n",
       "2  4197   Bedroom in DC 2 blocks to Metro     5061           Sandra   \n",
       "3  4529         Bertina's  House Part One     5803  Bertina'S House   \n",
       "4  4967                    DC, Near Metro     7086           Seveer   \n",
       "\n",
       "                                        neighborhood     room_type     price  \\\n",
       "0                                 Historic Anacostia  Private room   $55.00    \n",
       "1  Edgewood, Bloomingdale, Truxton Circle, Eckington  Private room   $70.00    \n",
       "2                         Capitol Hill, Lincoln Park  Private room   $80.00    \n",
       "3                       Eastland Gardens, Kenilworth  Private room   $54.00    \n",
       "4  Edgewood, Bloomingdale, Truxton Circle, Eckington  Private room   $99.00    \n",
       "\n",
       "   minimum_nights  availability_365  number_of_reviews  average_reviews  \n",
       "0               2               365                 75             3.38  \n",
       "1               2               365                429             2.53  \n",
       "2              28               263                 45             4.15  \n",
       "3              30                84                102             3.18  \n",
       "4               2               233                 31             2.76  "
      ]
     },
     "execution_count": 4,
     "metadata": {},
     "output_type": "execute_result"
    }
   ],
   "source": [
    "# Examining the first few rows of the data frame\n",
    "rentals.head()"
   ]
  },
  {
   "cell_type": "code",
   "execution_count": 5,
   "metadata": {},
   "outputs": [
    {
     "name": "stdout",
     "output_type": "stream",
     "text": [
      "<class 'pandas.core.frame.DataFrame'>\n",
      "RangeIndex: 5000 entries, 0 to 4999\n",
      "Data columns (total 11 columns):\n",
      " #   Column             Non-Null Count  Dtype  \n",
      "---  ------             --------------  -----  \n",
      " 0   id                 5000 non-null   int64  \n",
      " 1   name               4999 non-null   object \n",
      " 2   host_id            5000 non-null   int64  \n",
      " 3   host_name          4989 non-null   object \n",
      " 4   neighborhood       5000 non-null   object \n",
      " 5   room_type          5000 non-null   object \n",
      " 6   price              5000 non-null   object \n",
      " 7   minimum_nights     5000 non-null   int64  \n",
      " 8   availability_365   5000 non-null   int64  \n",
      " 9   number_of_reviews  5000 non-null   int64  \n",
      " 10  average_reviews    5000 non-null   float64\n",
      "dtypes: float64(1), int64(5), object(5)\n",
      "memory usage: 429.8+ KB\n"
     ]
    }
   ],
   "source": [
    "# Examining the information behind the categorical variables of the data frame \n",
    "rentals.info()"
   ]
  },
  {
   "cell_type": "code",
   "execution_count": 6,
   "metadata": {},
   "outputs": [],
   "source": [
    "# Handling null values\n",
    "rentals.fillna(0,inplace=True)"
   ]
  },
  {
   "cell_type": "code",
   "execution_count": 7,
   "metadata": {},
   "outputs": [
    {
     "data": {
      "text/plain": [
       "<seaborn.axisgrid.FacetGrid at 0x7fa01d626910>"
      ]
     },
     "execution_count": 7,
     "metadata": {},
     "output_type": "execute_result"
    },
    {
     "data": {
      "text/plain": [
       "Text(-2.700000000000003, 0.5, 'Count')"
      ]
     },
     "execution_count": 7,
     "metadata": {},
     "output_type": "execute_result"
    },
    {
     "data": {
      "text/plain": [
       "Text(0.5, 6.79999999999999, 'Room Type')"
      ]
     },
     "execution_count": 7,
     "metadata": {},
     "output_type": "execute_result"
    },
    {
     "data": {
      "text/plain": [
       "Text(0.5, 1.0, 'Count of Rentals by Room Type')"
      ]
     },
     "execution_count": 7,
     "metadata": {},
     "output_type": "execute_result"
    },
    {
     "data": {
      "image/png": "[encoded data removed]",
      "text/plain": [
       "<Figure size 360x360 with 1 Axes>"
      ]
     },
     "metadata": {
      "needs_background": "light"
     },
     "output_type": "display_data"
    }
   ],
   "source": [
    "# The story we will be telling today through our analysis is that of the room type categorical variable\n",
    "# By examining this variable, one of high importance, we will be able to determine other notable relationships\n",
    "# To begin, we will use a count plot to discover the quantity of each type of room\n",
    "sns.catplot(x='room_type', kind='count', data=rentals)\n",
    "plt.ylabel('Count', fontsize='15')\n",
    "plt.xlabel('Room Type',fontsize='15')\n",
    "plt.title('Count of Rentals by Room Type',fontsize='20')"
   ]
  },
  {
   "cell_type": "code",
   "execution_count": 8,
   "metadata": {},
   "outputs": [
    {
     "data": {
      "text/plain": [
       "Entire home/apt    3714\n",
       "Private room       1189\n",
       "Shared room          90\n",
       "Hotel room            7\n",
       "Name: room_type, dtype: int64"
      ]
     },
     "execution_count": 8,
     "metadata": {},
     "output_type": "execute_result"
    },
    {
     "data": {
      "text/plain": [
       "0    Entire home/apt\n",
       "dtype: object"
      ]
     },
     "execution_count": 8,
     "metadata": {},
     "output_type": "execute_result"
    }
   ],
   "source": [
    "# To get greater accuracy for our quantity, we use this function to get an accurate count\n",
    "rentals.room_type.value_counts()\n",
    "\n",
    "# Confirming visualization in the plot of the most reoccuring value\n",
    "rentals[\"room_type\"].mode()"
   ]
  },
  {
   "cell_type": "code",
   "execution_count": 9,
   "metadata": {},
   "outputs": [
    {
     "data": {
      "text/plain": [
       "<seaborn.axisgrid.FacetGrid at 0x7fa01da8e910>"
      ]
     },
     "execution_count": 9,
     "metadata": {},
     "output_type": "execute_result"
    },
    {
     "data": {
      "text/plain": [
       "Text(14.58958333333333, 0.5, 'Average Reviews')"
      ]
     },
     "execution_count": 9,
     "metadata": {},
     "output_type": "execute_result"
    },
    {
     "data": {
      "text/plain": [
       "Text(0.5, 6.79999999999999, 'Quantity')"
      ]
     },
     "execution_count": 9,
     "metadata": {},
     "output_type": "execute_result"
    },
    {
     "data": {
      "text/plain": [
       "Text(0.5, 1.0, 'Average Reviews for Rentals by Room Type')"
      ]
     },
     "execution_count": 9,
     "metadata": {},
     "output_type": "execute_result"
    },
    {
     "data": {
      "image/png": "[encoded data removed]",
      "text/plain": [
       "<Figure size 476.25x360 with 1 Axes>"
      ]
     },
     "metadata": {
      "needs_background": "light"
     },
     "output_type": "display_data"
    }
   ],
   "source": [
    "# From here we will use a histogram to examine any relationship between room type and average reviews\n",
    "# It is apparent that 'Entire home/apt' has the most by a significant margin\n",
    "# This makes sense as 'Entire home/apt' had the highest count in the previous plot, with 'Private room' second in both\n",
    "sns.displot(rentals, x='average_reviews', bins=10, hue='room_type', multiple='stack')\n",
    "plt.ylabel('Average Reviews', fontsize='15')\n",
    "plt.xlabel('Quantity',fontsize='15')\n",
    "plt.title('Average Reviews for Rentals by Room Type',fontsize='20')"
   ]
  },
  {
   "cell_type": "code",
   "execution_count": 10,
   "metadata": {},
   "outputs": [
    {
     "data": {
      "text/plain": [
       "3.74    31\n",
       "2.72    27\n",
       "3.12    27\n",
       "3.09    26\n",
       "4.61    26\n",
       "        ..\n",
       "2.32     8\n",
       "2.84     7\n",
       "3.66     6\n",
       "2.13     6\n",
       "2.31     5\n",
       "Name: average_reviews, Length: 300, dtype: int64"
      ]
     },
     "execution_count": 10,
     "metadata": {},
     "output_type": "execute_result"
    },
    {
     "data": {
      "text/plain": [
       "0    3.74\n",
       "dtype: float64"
      ]
     },
     "execution_count": 10,
     "metadata": {},
     "output_type": "execute_result"
    },
    {
     "data": {
      "text/plain": [
       "count    5000.000000\n",
       "mean        3.496486\n",
       "std         0.865490\n",
       "min         1.960000\n",
       "25%         2.760000\n",
       "50%         3.510000\n",
       "75%         4.260000\n",
       "max         4.950000\n",
       "Name: average_reviews, dtype: float64"
      ]
     },
     "execution_count": 10,
     "metadata": {},
     "output_type": "execute_result"
    },
    {
     "data": {
      "text/plain": [
       "3.51"
      ]
     },
     "execution_count": 10,
     "metadata": {},
     "output_type": "execute_result"
    },
    {
     "data": {
      "text/plain": [
       "-0.043630446284440294"
      ]
     },
     "execution_count": 10,
     "metadata": {},
     "output_type": "execute_result"
    }
   ],
   "source": [
    "# To get greater accuracy for our quantity, we use this function to get an accurate count\n",
    "rentals.average_reviews.value_counts()\n",
    "\n",
    "# Confirming visualization in the plot of the most reoccuring value\n",
    "rentals[\"average_reviews\"].mode()\n",
    "\n",
    "# To get helpful numeric statistics regarding min/max, mean, quartiles etc.\n",
    "rentals[\"average_reviews\"].describe()\n",
    "\n",
    "# To get the median, which can be a helpful comparison to the mean to look for possible skewness\n",
    "rentals[\"average_reviews\"].median()\n",
    "\n",
    "# To get the skewness value, in this case average reviews is not skewed\n",
    "rentals[\"average_reviews\"].skew()"
   ]
  },
  {
   "cell_type": "code",
   "execution_count": 11,
   "metadata": {},
   "outputs": [
    {
     "data": {
      "text/plain": [
       "<seaborn.axisgrid.FacetGrid at 0x7fa01a735700>"
      ]
     },
     "execution_count": 11,
     "metadata": {},
     "output_type": "execute_result"
    },
    {
     "data": {
      "text/plain": [
       "Text(8.21458333333333, 0.5, 'Quantity')"
      ]
     },
     "execution_count": 11,
     "metadata": {},
     "output_type": "execute_result"
    },
    {
     "data": {
      "text/plain": [
       "Text(0.5, 6.79999999999999, 'Minimum Nights')"
      ]
     },
     "execution_count": 11,
     "metadata": {},
     "output_type": "execute_result"
    },
    {
     "data": {
      "text/plain": [
       "Text(0.5, 1.0, 'Minimum Night Stay for Rentals by Room Type')"
      ]
     },
     "execution_count": 11,
     "metadata": {},
     "output_type": "execute_result"
    },
    {
     "data": {
      "image/png": "[encoded data removed]",
      "text/plain": [
       "<Figure size 476.25x360 with 1 Axes>"
      ]
     },
     "metadata": {
      "needs_background": "light"
     },
     "output_type": "display_data"
    }
   ],
   "source": [
    "# Next we will use a histogram to examine the relationship between room type and minimum night stay\n",
    "# It is apparent that the majortiy of minimums fall between 0-5 days\n",
    "# While there is still a portion, although significantly less, that trickles in the 5-15 day span\n",
    "# With another notable spike coming in the 25-30 day mark, being primarily 'Entire home/apt'\n",
    "sns.displot(rentals, x='minimum_nights', \n",
    "            bins=[0,5,10,15,20,25,30],\n",
    "            hue='room_type', multiple='stack')\n",
    "plt.ylabel('Quantity', fontsize='15')\n",
    "plt.xlabel('Minimum Nights',fontsize='15')\n",
    "plt.title('Minimum Night Stay for Rentals by Room Type',fontsize='20')"
   ]
  },
  {
   "cell_type": "code",
   "execution_count": 12,
   "metadata": {},
   "outputs": [
    {
     "data": {
      "text/plain": [
       "2      1519\n",
       "1      1184\n",
       "3       749\n",
       "30      556\n",
       "4       235\n",
       "5       159\n",
       "7       123\n",
       "28       64\n",
       "14       59\n",
       "10       42\n",
       "6        40\n",
       "90       37\n",
       "180      26\n",
       "15       26\n",
       "60       25\n",
       "20       20\n",
       "21       13\n",
       "70       12\n",
       "13       11\n",
       "120       9\n",
       "29        7\n",
       "365       6\n",
       "150       6\n",
       "91        6\n",
       "25        5\n",
       "56        5\n",
       "31        5\n",
       "45        4\n",
       "270       4\n",
       "8         3\n",
       "12        3\n",
       "360       3\n",
       "75        3\n",
       "27        3\n",
       "9         3\n",
       "300       2\n",
       "40        2\n",
       "85        2\n",
       "65        2\n",
       "61        1\n",
       "110       1\n",
       "55        1\n",
       "35        1\n",
       "23        1\n",
       "182       1\n",
       "32        1\n",
       "170       1\n",
       "58        1\n",
       "600       1\n",
       "100       1\n",
       "50        1\n",
       "160       1\n",
       "18        1\n",
       "185       1\n",
       "356       1\n",
       "179       1\n",
       "Name: minimum_nights, dtype: int64"
      ]
     },
     "execution_count": 12,
     "metadata": {},
     "output_type": "execute_result"
    },
    {
     "data": {
      "text/plain": [
       "0    2\n",
       "dtype: int64"
      ]
     },
     "execution_count": 12,
     "metadata": {},
     "output_type": "execute_result"
    },
    {
     "data": {
      "text/plain": [
       "count    5000.000000\n",
       "mean       10.429000\n",
       "std        28.639082\n",
       "min         1.000000\n",
       "25%         2.000000\n",
       "50%         2.000000\n",
       "75%         5.000000\n",
       "max       600.000000\n",
       "Name: minimum_nights, dtype: float64"
      ]
     },
     "execution_count": 12,
     "metadata": {},
     "output_type": "execute_result"
    },
    {
     "data": {
      "text/plain": [
       "2.0"
      ]
     },
     "execution_count": 12,
     "metadata": {},
     "output_type": "execute_result"
    },
    {
     "data": {
      "text/plain": [
       "8.283720180190244"
      ]
     },
     "execution_count": 12,
     "metadata": {},
     "output_type": "execute_result"
    },
    {
     "data": {
      "text/plain": [
       "13.013781199999292"
      ]
     },
     "execution_count": 12,
     "metadata": {},
     "output_type": "execute_result"
    }
   ],
   "source": [
    "# As can be seen below, this function displays the amount of values that repeatedly appear within the data column in descending order\n",
    "# With days 1-5 being roughly 3800 of the 5000 records we can account for the high spike in the beginning of the graph\n",
    "# Moreover, with 30 days having the 4th highest frequency, we can also account for the second spike in the latter half of the plot\n",
    "rentals.minimum_nights.value_counts()\n",
    "\n",
    "# Confirming visualization in the plot of the most reoccuring value\n",
    "rentals[\"minimum_nights\"].mode()\n",
    "\n",
    "# Run this to get helpful numeric statistics regarding min/max, mean, quartiles etc.\n",
    "rentals[\"minimum_nights\"].describe()\n",
    "\n",
    "# To get the median, which can be a helpful comparison to the mean to look for possible skewness\n",
    "rentals[\"minimum_nights\"].median()\n",
    "\n",
    "# To get the skewness value, in this case average reviews is not skewed\n",
    "rentals[\"minimum_nights\"].skew()\n",
    "\n",
    "# To get the mean absolute deviation, which in this case is roughly 2 weeks which is a pretty significant amount\n",
    "rentals[\"minimum_nights\"].mad()"
   ]
  },
  {
   "cell_type": "code",
   "execution_count": 13,
   "metadata": {},
   "outputs": [
    {
     "data": {
      "text/plain": [
       "<seaborn.axisgrid.FacetGrid at 0x7fa01dc29be0>"
      ]
     },
     "execution_count": 13,
     "metadata": {},
     "output_type": "execute_result"
    },
    {
     "data": {
      "text/plain": [
       "Text(4.96458333333333, 0.5, 'Density')"
      ]
     },
     "execution_count": 13,
     "metadata": {},
     "output_type": "execute_result"
    },
    {
     "data": {
      "text/plain": [
       "Text(0.5, 6.79999999999999, 'Availability 365')"
      ]
     },
     "execution_count": 13,
     "metadata": {},
     "output_type": "execute_result"
    },
    {
     "data": {
      "text/plain": [
       "Text(0.5, 1.0, 'Availability of Rentals by Room Type')"
      ]
     },
     "execution_count": 13,
     "metadata": {},
     "output_type": "execute_result"
    },
    {
     "data": {
      "image/png": "[encoded data removed]",
      "text/plain": [
       "<Figure size 476.25x360 with 1 Axes>"
      ]
     },
     "metadata": {
      "needs_background": "light"
     },
     "output_type": "display_data"
    }
   ],
   "source": [
    "# Next we will be using a kernel density plot to examine the relationship between room type and availability throughout the year\n",
    "# From this we can see the greatest availability for entire home, private room and shared room all peak around 0\n",
    "# However both entire home and private room have a second spike right under 400, indicating yearly availability as a secondary high\n",
    "sns.displot(rentals, x='availability_365', hue='room_type', kind='kde')\n",
    "plt.ylabel('Density', fontsize='15')\n",
    "plt.xlabel('Availability 365',fontsize='15')\n",
    "plt.title('Availability of Rentals by Room Type',fontsize='20')"
   ]
  },
  {
   "cell_type": "code",
   "execution_count": 14,
   "metadata": {},
   "outputs": [
    {
     "data": {
      "text/plain": [
       "<seaborn.axisgrid.FacetGrid at 0x7fa01d67e190>"
      ]
     },
     "execution_count": 14,
     "metadata": {},
     "output_type": "execute_result"
    },
    {
     "data": {
      "text/plain": [
       "Text(3.674999999999997, 0.5, 'Availability 365')"
      ]
     },
     "execution_count": 14,
     "metadata": {},
     "output_type": "execute_result"
    },
    {
     "data": {
      "text/plain": [
       "Text(0.5, 6.79999999999999, 'Room Type')"
      ]
     },
     "execution_count": 14,
     "metadata": {},
     "output_type": "execute_result"
    },
    {
     "data": {
      "text/plain": [
       "Text(0.5, 1.0, 'Availability of Rentals by Room Type')"
      ]
     },
     "execution_count": 14,
     "metadata": {},
     "output_type": "execute_result"
    },
    {
     "data": {
      "image/png": "[encoded data removed]",
      "text/plain": [
       "<Figure size 360x360 with 1 Axes>"
      ]
     },
     "metadata": {
      "needs_background": "light"
     },
     "output_type": "display_data"
    }
   ],
   "source": [
    "# Following the previous plot, we decided to run a box plot to get more in-depth information regarding the relationship between room type and availability\n",
    "# As seen below, Private room, Entire home/apt, and Shared room all have a similar median at just under 100 days\n",
    "# They also having interquartile ranges starting at almost the entire year, and decreasing by roughly 75 days towards the mean per variable, respectively. \n",
    "# With the three aforementioned variables all having the same min/max, the hotel room variable is the outlier\n",
    "# Hotel room has a median roughly 200 days higher, with an interquartile range of roughly 100 days and a minimum of roughly 175 days\n",
    "# This makes since as rentals for houses and private/shared rooms having sporadic availability, hotels almost always have some availability\n",
    "sns.catplot(x='room_type', y='availability_365', kind='box', data=rentals)\n",
    "plt.ylabel('Availability 365', fontsize='15')\n",
    "plt.xlabel('Room Type',fontsize='15')\n",
    "plt.title('Availability of Rentals by Room Type',fontsize='20')"
   ]
  },
  {
   "cell_type": "code",
   "execution_count": 15,
   "metadata": {},
   "outputs": [
    {
     "data": {
      "text/plain": [
       "0      1787\n",
       "365     396\n",
       "364     107\n",
       "89       94\n",
       "90       86\n",
       "       ... \n",
       "104       1\n",
       "94        1\n",
       "214       1\n",
       "114       1\n",
       "191       1\n",
       "Name: availability_365, Length: 357, dtype: int64"
      ]
     },
     "execution_count": 15,
     "metadata": {},
     "output_type": "execute_result"
    },
    {
     "data": {
      "text/plain": [
       "0    0\n",
       "dtype: int64"
      ]
     },
     "execution_count": 15,
     "metadata": {},
     "output_type": "execute_result"
    },
    {
     "data": {
      "text/plain": [
       "count    5000.000000\n",
       "mean      135.583400\n",
       "std       142.494144\n",
       "min         0.000000\n",
       "25%         0.000000\n",
       "50%        87.000000\n",
       "75%       283.000000\n",
       "max       365.000000\n",
       "Name: availability_365, dtype: float64"
      ]
     },
     "execution_count": 15,
     "metadata": {},
     "output_type": "execute_result"
    },
    {
     "data": {
      "text/plain": [
       "87.0"
      ]
     },
     "execution_count": 15,
     "metadata": {},
     "output_type": "execute_result"
    },
    {
     "data": {
      "text/plain": [
       "0.5400261531959021"
      ]
     },
     "execution_count": 15,
     "metadata": {},
     "output_type": "execute_result"
    },
    {
     "data": {
      "text/plain": [
       "128.0284445600006"
      ]
     },
     "execution_count": 15,
     "metadata": {},
     "output_type": "execute_result"
    }
   ],
   "source": [
    "# To get greater accuracy for our quantity, we use this function to get an accurate count\n",
    "rentals.availability_365.value_counts()\n",
    "\n",
    "# Confirming visualization in the plot of the most reoccuring value\n",
    "rentals[\"availability_365\"].mode()\n",
    "\n",
    "# Run this to get helpful numeric statistics regarding min/max, mean, quartiles etc.\n",
    "rentals[\"availability_365\"].describe()\n",
    "\n",
    "# To get the median, which can be a helpful comparison to the mean to look for possible skewness\n",
    "rentals[\"availability_365\"].median()\n",
    "\n",
    "# To get the skewness value, in this case average reviews is not skewed\n",
    "rentals[\"availability_365\"].skew()\n",
    "\n",
    "# To get the mean absolute deviation, which in this case is roughly 4 months which is a significant variability between room types\n",
    "rentals[\"availability_365\"].mad()"
   ]
  },
  {
   "cell_type": "code",
   "execution_count": 8,
   "metadata": {},
   "outputs": [
    {
     "data": {
      "text/html": [
       "<div>\n",
       "<style scoped>\n",
       "    .dataframe tbody tr th:only-of-type {\n",
       "        vertical-align: middle;\n",
       "    }\n",
       "\n",
       "    .dataframe tbody tr th {\n",
       "        vertical-align: top;\n",
       "    }\n",
       "\n",
       "    .dataframe thead th {\n",
       "        text-align: right;\n",
       "    }\n",
       "</style>\n",
       "<table border=\"1\" class=\"dataframe\">\n",
       "  <thead>\n",
       "    <tr style=\"text-align: right;\">\n",
       "      <th></th>\n",
       "      <th>id</th>\n",
       "      <th>host_id</th>\n",
       "      <th>minimum_nights</th>\n",
       "      <th>availability_365</th>\n",
       "      <th>number_of_reviews</th>\n",
       "      <th>average_reviews</th>\n",
       "    </tr>\n",
       "  </thead>\n",
       "  <tbody>\n",
       "    <tr>\n",
       "      <th>id</th>\n",
       "      <td>1.000000</td>\n",
       "      <td>0.182713</td>\n",
       "      <td>0.060250</td>\n",
       "      <td>0.023204</td>\n",
       "      <td>-0.383191</td>\n",
       "      <td>0.000725</td>\n",
       "    </tr>\n",
       "    <tr>\n",
       "      <th>host_id</th>\n",
       "      <td>0.182713</td>\n",
       "      <td>1.000000</td>\n",
       "      <td>-0.009985</td>\n",
       "      <td>-0.004961</td>\n",
       "      <td>-0.078809</td>\n",
       "      <td>-0.005087</td>\n",
       "    </tr>\n",
       "    <tr>\n",
       "      <th>minimum_nights</th>\n",
       "      <td>0.060250</td>\n",
       "      <td>-0.009985</td>\n",
       "      <td>1.000000</td>\n",
       "      <td>0.182223</td>\n",
       "      <td>-0.102591</td>\n",
       "      <td>0.012016</td>\n",
       "    </tr>\n",
       "    <tr>\n",
       "      <th>availability_365</th>\n",
       "      <td>0.023204</td>\n",
       "      <td>-0.004961</td>\n",
       "      <td>0.182223</td>\n",
       "      <td>1.000000</td>\n",
       "      <td>0.067516</td>\n",
       "      <td>0.025036</td>\n",
       "    </tr>\n",
       "    <tr>\n",
       "      <th>number_of_reviews</th>\n",
       "      <td>-0.383191</td>\n",
       "      <td>-0.078809</td>\n",
       "      <td>-0.102591</td>\n",
       "      <td>0.067516</td>\n",
       "      <td>1.000000</td>\n",
       "      <td>-0.031291</td>\n",
       "    </tr>\n",
       "    <tr>\n",
       "      <th>average_reviews</th>\n",
       "      <td>0.000725</td>\n",
       "      <td>-0.005087</td>\n",
       "      <td>0.012016</td>\n",
       "      <td>0.025036</td>\n",
       "      <td>-0.031291</td>\n",
       "      <td>1.000000</td>\n",
       "    </tr>\n",
       "  </tbody>\n",
       "</table>\n",
       "</div>"
      ],
      "text/plain": [
       "                         id   host_id  minimum_nights  availability_365  \\\n",
       "id                 1.000000  0.182713        0.060250          0.023204   \n",
       "host_id            0.182713  1.000000       -0.009985         -0.004961   \n",
       "minimum_nights     0.060250 -0.009985        1.000000          0.182223   \n",
       "availability_365   0.023204 -0.004961        0.182223          1.000000   \n",
       "number_of_reviews -0.383191 -0.078809       -0.102591          0.067516   \n",
       "average_reviews    0.000725 -0.005087        0.012016          0.025036   \n",
       "\n",
       "                   number_of_reviews  average_reviews  \n",
       "id                         -0.383191         0.000725  \n",
       "host_id                    -0.078809        -0.005087  \n",
       "minimum_nights             -0.102591         0.012016  \n",
       "availability_365            0.067516         0.025036  \n",
       "number_of_reviews           1.000000        -0.031291  \n",
       "average_reviews            -0.031291         1.000000  "
      ]
     },
     "execution_count": 8,
     "metadata": {},
     "output_type": "execute_result"
    }
   ],
   "source": [
    "# As can be seen below, none of the previous categorical variables we examined have a notable positive/negative correlation\n",
    "rentals.corr()"
   ]
  }
 ],
 "metadata": {
  "kernelspec": {
   "display_name": "Python 3",
   "language": "python",
   "name": "python3"
  },
  "language_info": {
   "codemirror_mode": {
    "name": "ipython",
    "version": 3
   },
   "file_extension": ".py",
   "mimetype": "text/x-python",
   "name": "python",
   "nbconvert_exporter": "python",
   "pygments_lexer": "ipython3",
   "version": "3.8.5"
  }
 },
 "nbformat": 4,
 "nbformat_minor": 4
}
